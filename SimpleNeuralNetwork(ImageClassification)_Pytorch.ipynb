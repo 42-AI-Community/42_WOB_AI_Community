{
  "nbformat": 4,
  "nbformat_minor": 0,
  "metadata": {
    "colab": {
      "provenance": [],
      "include_colab_link": true
    },
    "kernelspec": {
      "name": "python3",
      "display_name": "Python 3"
    },
    "language_info": {
      "name": "python"
    }
  },
  "cells": [
    {
      "cell_type": "markdown",
      "metadata": {
        "id": "view-in-github",
        "colab_type": "text"
      },
      "source": [
        "<a href=\"https://colab.research.google.com/github/mdabir1203/42_WOB_AI_Community/blob/main/SimpleNeuralNetwork(ImageClassification)_Pytorch.ipynb\" target=\"_parent\"><img src=\"https://colab.research.google.com/assets/colab-badge.svg\" alt=\"Open In Colab\"/></a>"
      ]
    },
    {
      "cell_type": "markdown",
      "source": [
        "**Building a simple neural Network with FashionMNIST database**"
      ],
      "metadata": {
        "id": "YAfnc1Ke3nBS"
      }
    },
    {
      "cell_type": "code",
      "execution_count": null,
      "metadata": {
        "colab": {
          "base_uri": "https://localhost:8080/"
        },
        "id": "WU9et4t83lE2",
        "outputId": "521ab9bf-4b1e-423b-ffac-665b0cece070"
      },
      "outputs": [
        {
          "output_type": "stream",
          "name": "stdout",
          "text": [
            "Downloading http://fashion-mnist.s3-website.eu-central-1.amazonaws.com/train-images-idx3-ubyte.gz\n",
            "Downloading http://fashion-mnist.s3-website.eu-central-1.amazonaws.com/train-images-idx3-ubyte.gz to F_MNIST_data/FashionMNIST/raw/train-images-idx3-ubyte.gz\n"
          ]
        },
        {
          "output_type": "stream",
          "name": "stderr",
          "text": [
            "100%|██████████| 26421880/26421880 [00:01<00:00, 16504851.60it/s]\n"
          ]
        },
        {
          "output_type": "stream",
          "name": "stdout",
          "text": [
            "Extracting F_MNIST_data/FashionMNIST/raw/train-images-idx3-ubyte.gz to F_MNIST_data/FashionMNIST/raw\n",
            "\n",
            "Downloading http://fashion-mnist.s3-website.eu-central-1.amazonaws.com/train-labels-idx1-ubyte.gz\n",
            "Downloading http://fashion-mnist.s3-website.eu-central-1.amazonaws.com/train-labels-idx1-ubyte.gz to F_MNIST_data/FashionMNIST/raw/train-labels-idx1-ubyte.gz\n"
          ]
        },
        {
          "output_type": "stream",
          "name": "stderr",
          "text": [
            "100%|██████████| 29515/29515 [00:00<00:00, 306285.00it/s]\n"
          ]
        },
        {
          "output_type": "stream",
          "name": "stdout",
          "text": [
            "Extracting F_MNIST_data/FashionMNIST/raw/train-labels-idx1-ubyte.gz to F_MNIST_data/FashionMNIST/raw\n",
            "\n",
            "Downloading http://fashion-mnist.s3-website.eu-central-1.amazonaws.com/t10k-images-idx3-ubyte.gz\n",
            "Downloading http://fashion-mnist.s3-website.eu-central-1.amazonaws.com/t10k-images-idx3-ubyte.gz to F_MNIST_data/FashionMNIST/raw/t10k-images-idx3-ubyte.gz\n"
          ]
        },
        {
          "output_type": "stream",
          "name": "stderr",
          "text": [
            "100%|██████████| 4422102/4422102 [00:00<00:00, 5530945.96it/s]\n"
          ]
        },
        {
          "output_type": "stream",
          "name": "stdout",
          "text": [
            "Extracting F_MNIST_data/FashionMNIST/raw/t10k-images-idx3-ubyte.gz to F_MNIST_data/FashionMNIST/raw\n",
            "\n",
            "Downloading http://fashion-mnist.s3-website.eu-central-1.amazonaws.com/t10k-labels-idx1-ubyte.gz\n",
            "Downloading http://fashion-mnist.s3-website.eu-central-1.amazonaws.com/t10k-labels-idx1-ubyte.gz to F_MNIST_data/FashionMNIST/raw/t10k-labels-idx1-ubyte.gz\n"
          ]
        },
        {
          "output_type": "stream",
          "name": "stderr",
          "text": [
            "100%|██████████| 5148/5148 [00:00<00:00, 4214772.01it/s]"
          ]
        },
        {
          "output_type": "stream",
          "name": "stdout",
          "text": [
            "Extracting F_MNIST_data/FashionMNIST/raw/t10k-labels-idx1-ubyte.gz to F_MNIST_data/FashionMNIST/raw\n",
            "\n"
          ]
        },
        {
          "output_type": "stream",
          "name": "stderr",
          "text": [
            "\n"
          ]
        }
      ],
      "source": [
        "import numpy as np\n",
        "import torch\n",
        "import torch.nn as nn\n",
        "import torch.optim as optim\n",
        "from torchvision import datasets, transforms\n",
        "import matplotlib.pyplot as plt\n",
        "from collections import OrderedDict\n",
        "\n",
        "# Download training and testing data\n",
        "transform = transforms.Compose([transforms.ToTensor(),\n",
        "                                transforms.Normalize((0.5,), (0.5,))])\n",
        "train_ds = datasets.FashionMNIST('F_MNIST_data', download=True, train=True, transform=transform)\n",
        "test_ds = datasets.FashionMNIST('F_MNIST_data', download=True, train=False, transform=transform)"
      ]
    },
    {
      "cell_type": "code",
      "source": [
        "# split train set into training (80%) and validation set (20%)\n",
        "# Good read: https://stackoverflow.com/questions/68104922/optimal-split-for-training-validation-and-testing-sets\n",
        "\n",
        "train_num = len(train_ds)\n",
        "indices = list(range(train_num))\n",
        "np.random.shuffle(indices)\n",
        "split = int(np.floor(0.2 * train_num))\n",
        "val_idx, train_idx = indices[:split], indices[split:]\n",
        "len(val_idx), len(train_idx)"
      ],
      "metadata": {
        "colab": {
          "base_uri": "https://localhost:8080/"
        },
        "id": "pOmHafXE31BF",
        "outputId": "4d29a8b5-4f9f-4b6b-e3a0-1e66e3a048cd"
      },
      "execution_count": null,
      "outputs": [
        {
          "output_type": "execute_result",
          "data": {
            "text/plain": [
              "(12000, 48000)"
            ]
          },
          "metadata": {},
          "execution_count": 4
        }
      ]
    },
    {
      "cell_type": "code",
      "source": [
        "# prepare dataloaders\n",
        "## code block that shows how to load and display an image from the Fashion-MNIST dataset, which is a collection of 70,000 grayscale images of 10 different types of clothing items.\n",
        "#Would show different colors for different intensities, which would not reflect the original image. Grayscale is a common choice for plotting images that have one channel.\n",
        "\n",
        "## Batch Size --> How many examples you use to train your model at one time .  It is not too small or too large, and it can fit well in the memory of your CPU or GPU\n",
        "\n",
        "train_sampler = torch.utils.data.sampler.SubsetRandomSampler(train_idx)\n",
        "train_dl = torch.utils.data.DataLoader(train_ds, batch_size=64, sampler=train_sampler)\n",
        "val_sampler = torch.utils.data.sampler.SubsetRandomSampler(val_idx)\n",
        "val_dl = torch.utils.data.DataLoader(train_ds, batch_size=64, sampler=val_sampler)\n",
        "test_dl = torch.utils.data.DataLoader(test_ds, batch_size=64, shuffle=True)"
      ],
      "metadata": {
        "id": "NKMvQPuu4A80"
      },
      "execution_count": null,
      "outputs": []
    },
    {
      "cell_type": "code",
      "source": [
        "image, label = next(iter(train_dl))\n",
        "print(image[0].shape, label.shape)\n",
        "desc = ['T-shirt/top','Trouser','Pullover','Dress','Coat','Sandal','Shirt','Sneaker','Bag','Ankle Boot']\n",
        "print(desc[label[0].item()])\n",
        "plt.imshow(image[0].numpy().squeeze(), cmap='gray');"
      ],
      "metadata": {
        "colab": {
          "base_uri": "https://localhost:8080/",
          "height": 465
        },
        "id": "_-7ax5bu4ekb",
        "outputId": "959ad230-ff21-435f-94c3-a33bfe943a2f"
      },
      "execution_count": null,
      "outputs": [
        {
          "output_type": "stream",
          "name": "stdout",
          "text": [
            "torch.Size([1, 28, 28]) torch.Size([64])\n",
            "Trouser\n"
          ]
        },
        {
          "output_type": "display_data",
          "data": {
            "text/plain": [
              "<Figure size 640x480 with 1 Axes>"
            ],
            "image/png": "[encoded data removed]"
          },
          "metadata": {}
        }
      ]
    },
    {
      "cell_type": "markdown",
      "source": [
        "# Build the Network\n",
        "\n",
        "## 3 layers -> nn.Linear -> **Linear Regression**\n",
        "## **dropout layer** -> \n",
        "A dropout layer is a layer that randomly drops out some of the neurons in the previous layer during training, to prevent overfitting12. Overfitting occurs when the model learns the noise or specific patterns in the training data, and fails to generalize well to new or unseen data\n",
        "\n",
        "## Activation Function -> ReLu , Softmax, tanh \n",
        "\n",
        "## Optimizer -> Adam , CrossEntropyLoss"
      ],
      "metadata": {
        "id": "_yeaQHvY5XxQ"
      }
    },
    {
      "cell_type": "code",
      "source": [
        "def network():\n",
        "    model = nn.Sequential(OrderedDict([('fc1', nn.Linear(784, 128)),\n",
        "                                       ('relu1', nn.ReLU()),\n",
        "                                       ('drop1', nn.Dropout(0.25)),                                       \n",
        "                                       ('fc2', nn.Linear(128, 64)),\n",
        "                                       ('relu2', nn.ReLU()),\n",
        "                                       ('drop1', nn.Dropout(0.25)),                                       \n",
        "                                       ('output', nn.Linear(64, 10)),\n",
        "                                       ('logsoftmax', nn.LogSoftmax(dim=1))]))\n",
        "    # Use GPU if available\n",
        "    device = 'cuda' if torch.cuda.is_available() else 'cpu'\n",
        "    model = model.to(device)\n",
        "\n",
        "    # define the criterion and optimizer\n",
        "    loss_fn = nn.NLLLoss()\n",
        "    optimizer = optim.Adam(model.parameters(), lr=0.003)\n",
        "\n",
        "    return model, loss_fn, optimizer, device        "
      ],
      "metadata": {
        "id": "2zEmRQgn5gKj"
      },
      "execution_count": null,
      "outputs": []
    },
    {
      "cell_type": "code",
      "source": [
        "# Define the Model \n",
        "\n",
        "model, loss_fn, optimizer, device = network()\n",
        "print(model)"
      ],
      "metadata": {
        "colab": {
          "base_uri": "https://localhost:8080/"
        },
        "id": "4tjHSxBU7Sz5",
        "outputId": "2ec6bd99-20c6-47be-af38-291399594b70"
      },
      "execution_count": null,
      "outputs": [
        {
          "output_type": "stream",
          "name": "stdout",
          "text": [
            "Sequential(\n",
            "  (fc1): Linear(in_features=784, out_features=128, bias=True)\n",
            "  (relu1): ReLU()\n",
            "  (drop1): Dropout(p=0.25, inplace=False)\n",
            "  (fc2): Linear(in_features=128, out_features=64, bias=True)\n",
            "  (relu2): ReLU()\n",
            "  (output): Linear(in_features=64, out_features=10, bias=True)\n",
            "  (logsoftmax): LogSoftmax(dim=1)\n",
            ")\n"
          ]
        }
      ]
    },
    {
      "cell_type": "markdown",
      "source": [
        "# Train the Network"
      ],
      "metadata": {
        "id": "yGzfFadJ6nvk"
      }
    },
    {
      "cell_type": "markdown",
      "source": [
        "#Epoch\n",
        "An epoch is one complete pass through the entire training dataset.\n",
        "-- Metrics --\n",
        "#train_loss: \n",
        "The average loss function value over the training dataset. This measures how well the model fits the training data. A lower value means a better fit.\n",
        "#val_loss:\n",
        "The average loss function value over the validation dataset. This measures how well the model generalizes to new data that it has not seen during training. A lower value means a better generalization.\n",
        "#val_acc:\n",
        "The accuracy of the model on the validation dataset. This is the percentage of correct predictions out of all predictions. A higher value means a better accuracy."
      ],
      "metadata": {
        "id": "O182d61b8oIX"
      }
    },
    {
      "cell_type": "code",
      "source": [
        "def train_validate(model, loss_fn, optimizer, trainloader, testloader, device, n_epochs=25):\n",
        "    train_losses = []\n",
        "    test_losses = []\n",
        "    for epoch in range(n_epochs):\n",
        "        # Set mode to training - Dropouts will be used here\n",
        "        model.train()\n",
        "        train_epoch_loss = 0\n",
        "        for images, labels in trainloader:\n",
        "            images, labels = images.to(device), labels.to(device)\n",
        "            # flatten the images to batch_size x 784\n",
        "            images = images.view(images.shape[0], -1)\n",
        "            # forward pass\n",
        "            outputs = model(images)\n",
        "            # backpropogation\n",
        "            train_batch_loss = loss_fn(outputs, labels)\n",
        "            optimizer.zero_grad()\n",
        "            train_batch_loss.backward()\n",
        "            # Weight updates\n",
        "            optimizer.step()\n",
        "            train_epoch_loss += train_batch_loss.item()\n",
        "        else:\n",
        "            # One epoch of training complete\n",
        "            # calculate average training epoch loss\n",
        "            train_epoch_loss = train_epoch_loss/len(trainloader)\n",
        "\n",
        "            # Now Validate on testset\n",
        "            with torch.no_grad():\n",
        "                test_epoch_acc = 0\n",
        "                test_epoch_loss = 0\n",
        "                # Set mode to eval - Dropouts will NOT be used here\n",
        "                model.eval()\n",
        "                for images, labels in testloader:\n",
        "                    images, labels = images.to(device), labels.to(device)                    \n",
        "                    # flatten images to batch_size x 784\n",
        "                    #By flattening the images, we are transforming them from a\n",
        "                    #28x28 matrix of pixels to a vector of 784 pixel values. \n",
        "                    #This way, the linear layer can perform a matrix multiplication with the input and the weight matrix.\n",
        "                    images = images.view(images.shape[0], -1)\n",
        "                    # make predictions \n",
        "                    test_outputs = model(images)\n",
        "                    # calculate test loss\n",
        "                    test_batch_loss = loss_fn(test_outputs, labels)\n",
        "                    test_epoch_loss += test_batch_loss\n",
        "                    \n",
        "                    # get probabilities, extract the class associated with highest probability\n",
        "                    proba = torch.exp(test_outputs)\n",
        "                    _, pred_labels = proba.topk(1, dim=1)\n",
        "                    \n",
        "                    # compare actual labels and predicted labels\n",
        "                    result = pred_labels == labels.view(pred_labels.shape)\n",
        "                    batch_acc = torch.mean(result.type(torch.FloatTensor))\n",
        "                    test_epoch_acc += batch_acc.item()\n",
        "                else:\n",
        "                    # One epoch of training and validation done\n",
        "                    # calculate average testing epoch loss\n",
        "                    test_epoch_loss = test_epoch_loss/len(testloader)\n",
        "                    # calculate accuracy as correct_pred/total_samples\n",
        "                    test_epoch_acc = test_epoch_acc/len(testloader)\n",
        "                    # save epoch losses for plotting\n",
        "                    train_losses.append(train_epoch_loss)\n",
        "                    test_losses.append(test_epoch_loss)\n",
        "                    # print stats for this epoch\n",
        "                    print(f'Epoch: {epoch} -> train_loss: {train_epoch_loss:.19f}, val_loss: {test_epoch_loss:.19f}, ',\n",
        "                          f'val_acc: {test_epoch_acc*100:.2f}%')\n",
        "    # Finally plot losses\n",
        "    plt.plot(train_losses, label='train-loss')\n",
        "    plt.plot(test_losses, label='val-loss')\n",
        "    plt.legend()\n",
        "    plt.show()\n",
        "\n",
        "\n",
        "\n",
        "\n",
        "\n",
        "train_validate(model, loss_fn, optimizer, train_dl, val_dl, device)"
      ],
      "metadata": {
        "colab": {
          "base_uri": "https://localhost:8080/",
          "height": 864
        },
        "id": "Wpp9DoV66nYx",
        "outputId": "d374e3f3-d6bc-484a-8978-a2c01a6f21da"
      },
      "execution_count": null,
      "outputs": [
        {
          "output_type": "stream",
          "name": "stdout",
          "text": [
            "Epoch: 0 -> train_loss: 0.5786475836435953646, val_loss: 0.4539201259613037109,  val_acc: 83.54%\n",
            "Epoch: 1 -> train_loss: 0.4564162440498669704, val_loss: 0.3978396058082580566,  val_acc: 85.54%\n",
            "Epoch: 2 -> train_loss: 0.4217991570035616311, val_loss: 0.3857934772968292236,  val_acc: 86.10%\n",
            "Epoch: 3 -> train_loss: 0.4028816065390904977, val_loss: 0.3817302584648132324,  val_acc: 86.61%\n",
            "Epoch: 4 -> train_loss: 0.3885207303563753545, val_loss: 0.3665890693664550781,  val_acc: 86.39%\n",
            "Epoch: 5 -> train_loss: 0.3790938361088435071, val_loss: 0.3923982679843902588,  val_acc: 85.58%\n",
            "Epoch: 6 -> train_loss: 0.3666848312914371411, val_loss: 0.3555256724357604980,  val_acc: 87.06%\n",
            "Epoch: 7 -> train_loss: 0.3618107124169667732, val_loss: 0.3723082840442657471,  val_acc: 86.54%\n",
            "Epoch: 8 -> train_loss: 0.3553915840685367700, val_loss: 0.3540603518486022949,  val_acc: 87.16%\n",
            "Epoch: 9 -> train_loss: 0.3490855130652586458, val_loss: 0.3419536054134368896,  val_acc: 87.76%\n",
            "Epoch: 10 -> train_loss: 0.3436417883237202764, val_loss: 0.3594471216201782227,  val_acc: 87.07%\n",
            "Epoch: 11 -> train_loss: 0.3379073093632857239, val_loss: 0.3635777831077575684,  val_acc: 87.16%\n",
            "Epoch: 12 -> train_loss: 0.3351385676960150217, val_loss: 0.3467468619346618652,  val_acc: 87.44%\n",
            "Epoch: 13 -> train_loss: 0.3272868826289971889, val_loss: 0.3638184368610382080,  val_acc: 87.13%\n",
            "Epoch: 14 -> train_loss: 0.3229215342303117242, val_loss: 0.3333231210708618164,  val_acc: 88.00%\n",
            "Epoch: 15 -> train_loss: 0.3186292738715807427, val_loss: 0.3426152765750885010,  val_acc: 87.82%\n",
            "Epoch: 16 -> train_loss: 0.3176319881876309981, val_loss: 0.3511054217815399170,  val_acc: 87.43%\n",
            "Epoch: 17 -> train_loss: 0.3146216356356938415, val_loss: 0.3675571680068969727,  val_acc: 86.81%\n",
            "Epoch: 18 -> train_loss: 0.3140079226096471054, val_loss: 0.3432052433490753174,  val_acc: 88.04%\n",
            "Epoch: 19 -> train_loss: 0.3093562892278035603, val_loss: 0.3471860587596893311,  val_acc: 87.77%\n",
            "Epoch: 20 -> train_loss: 0.3078292595346768801, val_loss: 0.3332746922969818115,  val_acc: 88.21%\n",
            "Epoch: 21 -> train_loss: 0.2997354889909426556, val_loss: 0.3227475881576538086,  val_acc: 88.55%\n",
            "Epoch: 22 -> train_loss: 0.2989073414206505075, val_loss: 0.3508322238922119141,  val_acc: 87.08%\n",
            "Epoch: 23 -> train_loss: 0.2960051813026269296, val_loss: 0.3385807871818542480,  val_acc: 88.06%\n",
            "Epoch: 24 -> train_loss: 0.2890875630577405264, val_loss: 0.3324531316757202148,  val_acc: 88.33%\n"
          ]
        },
        {
          "output_type": "display_data",
          "data": {
            "text/plain": [
              "<Figure size 640x480 with 1 Axes>"
            ],
            "image/png": "[encoded data removed]"
          },
          "metadata": {}
        }
      ]
    },
    {
      "cell_type": "code",
      "source": [
        "# Train and validate\n",
        "##The data value change shows how your scores change over time as you teaching the machine to recognize image. \n",
        "#It tells you how well you are doing and what you need to work on. There are many things that can affect your performance,\n",
        "#like the image quality, shape, color, and size.\n",
        "train_validate(model, loss_fn, optimizer, train_dl, val_dl, device)"
      ],
      "metadata": {
        "colab": {
          "base_uri": "https://localhost:8080/",
          "height": 222
        },
        "id": "Q1Whf0kg61bd",
        "outputId": "0b283813-7d8d-42ab-9685-1b11cf34dfee"
      },
      "execution_count": 2,
      "outputs": [
        {
          "output_type": "error",
          "ename": "NameError",
          "evalue": "ignored",
          "traceback": [
            "\u001b[0;31m---------------------------------------------------------------------------\u001b[0m",
            "\u001b[0;31mNameError\u001b[0m                                 Traceback (most recent call last)",
            "\u001b[0;32m<ipython-input-2-c7daa134a8cb>\u001b[0m in \u001b[0;36m<cell line: 4>\u001b[0;34m()\u001b[0m\n\u001b[1;32m      2\u001b[0m \u001b[0;31m##The data value change shows how your scores change over time as you teaching the machine to recognize image.\u001b[0m\u001b[0;34m\u001b[0m\u001b[0;34m\u001b[0m\u001b[0m\n\u001b[1;32m      3\u001b[0m \u001b[0;31m#It tells you how well you are doing and what you need to work on. There are many things that can affect your performance, like the weather, the road, the bike, and your mood.\u001b[0m\u001b[0;34m\u001b[0m\u001b[0;34m\u001b[0m\u001b[0m\n\u001b[0;32m----> 4\u001b[0;31m \u001b[0mtrain_validate\u001b[0m\u001b[0;34m(\u001b[0m\u001b[0mmodel\u001b[0m\u001b[0;34m,\u001b[0m \u001b[0mloss_fn\u001b[0m\u001b[0;34m,\u001b[0m \u001b[0moptimizer\u001b[0m\u001b[0;34m,\u001b[0m \u001b[0mtrain_dl\u001b[0m\u001b[0;34m,\u001b[0m \u001b[0mval_dl\u001b[0m\u001b[0;34m,\u001b[0m \u001b[0mdevice\u001b[0m\u001b[0;34m)\u001b[0m\u001b[0;34m\u001b[0m\u001b[0;34m\u001b[0m\u001b[0m\n\u001b[0m",
            "\u001b[0;31mNameError\u001b[0m: name 'train_validate' is not defined"
          ]
        }
      ]
    },
    {
      "cell_type": "markdown",
      "source": [
        "#Predict a Single Image\n",
        "\n",
        "\n",
        "## Problem solve with : images, labels = dataiter.__next__() -> older pytorch used dataiter.next()\n",
        "\n",
        "##Change the index value to recognize different image size"
      ],
      "metadata": {
        "id": "vmQ6anrO7qiZ"
      }
    },
    {
      "cell_type": "code",
      "source": [
        "%matplotlib inline\n",
        "%config InlineBackend.figure_format = 'retina'\n",
        "\n",
        "# Test out the network!\n",
        "dataiter = iter(test_dl)\n",
        "images, labels = dataiter.__next__()  #tunpacking the tuples #\n",
        "images, labels = images.to(device), labels.to(device)\n",
        "index = 44 ## The index can be any integer between 0 and 63, as the batch size is 64.This will change the image to recognize or you can run next batch to load new one\n",
        "img, label = images[index], labels[index]\n",
        "# Convert 2D image to 1D vector\n",
        "img = img.view(img.shape[0], -1)\n",
        "\n",
        "# Calculate the class probabilities (softmax) for img\n",
        "proba = torch.exp(model(img))\n",
        "\n",
        "# Plot the image and probabilities\n",
        "desc = ['T-shirt/top','Trouser','Pullover','Dress','Coat','Sandal','Shirt','Sneaker','Bag','Ankle Boot']\n",
        "fig, (ax1, ax2) =  plt.subplots(figsize=(13, 6), nrows=1, ncols=2)\n",
        "ax1.axis('off')\n",
        "ax1.imshow(images[index].cpu().numpy().squeeze())\n",
        "ax1.set_title(desc[label.item()])\n",
        "ax2.bar(range(10), proba.detach().cpu().numpy().squeeze())\n",
        "ax2.set_xticks(range(10))\n",
        "ax2.set_xticklabels(desc, size='small')\n",
        "ax2.set_title('Predicted Probabilities')\n",
        "plt.tight_layout()"
      ],
      "metadata": {
        "colab": {
          "base_uri": "https://localhost:8080/",
          "height": 240
        },
        "id": "A1CXwSiu7k1a",
        "outputId": "98e71f8a-9d11-4d46-c819-75b38c220456"
      },
      "execution_count": 1,
      "outputs": [
        {
          "output_type": "error",
          "ename": "NameError",
          "evalue": "ignored",
          "traceback": [
            "\u001b[0;31m---------------------------------------------------------------------------\u001b[0m",
            "\u001b[0;31mNameError\u001b[0m                                 Traceback (most recent call last)",
            "\u001b[0;32m<ipython-input-1-edd5b2f3c825>\u001b[0m in \u001b[0;36m<cell line: 5>\u001b[0;34m()\u001b[0m\n\u001b[1;32m      3\u001b[0m \u001b[0;34m\u001b[0m\u001b[0m\n\u001b[1;32m      4\u001b[0m \u001b[0;31m# Test out the network!\u001b[0m\u001b[0;34m\u001b[0m\u001b[0;34m\u001b[0m\u001b[0m\n\u001b[0;32m----> 5\u001b[0;31m \u001b[0mdataiter\u001b[0m \u001b[0;34m=\u001b[0m \u001b[0miter\u001b[0m\u001b[0;34m(\u001b[0m\u001b[0mtest_dl\u001b[0m\u001b[0;34m)\u001b[0m\u001b[0;34m\u001b[0m\u001b[0;34m\u001b[0m\u001b[0m\n\u001b[0m\u001b[1;32m      6\u001b[0m \u001b[0mimages\u001b[0m\u001b[0;34m,\u001b[0m \u001b[0mlabels\u001b[0m \u001b[0;34m=\u001b[0m \u001b[0mdataiter\u001b[0m\u001b[0;34m.\u001b[0m\u001b[0m__next__\u001b[0m\u001b[0;34m(\u001b[0m\u001b[0;34m)\u001b[0m  \u001b[0;31m#tunpacking the tuples #\u001b[0m\u001b[0;34m\u001b[0m\u001b[0;34m\u001b[0m\u001b[0m\n\u001b[1;32m      7\u001b[0m \u001b[0mimages\u001b[0m\u001b[0;34m,\u001b[0m \u001b[0mlabels\u001b[0m \u001b[0;34m=\u001b[0m \u001b[0mimages\u001b[0m\u001b[0;34m.\u001b[0m\u001b[0mto\u001b[0m\u001b[0;34m(\u001b[0m\u001b[0mdevice\u001b[0m\u001b[0;34m)\u001b[0m\u001b[0;34m,\u001b[0m \u001b[0mlabels\u001b[0m\u001b[0;34m.\u001b[0m\u001b[0mto\u001b[0m\u001b[0;34m(\u001b[0m\u001b[0mdevice\u001b[0m\u001b[0;34m)\u001b[0m\u001b[0;34m\u001b[0m\u001b[0;34m\u001b[0m\u001b[0m\n",
            "\u001b[0;31mNameError\u001b[0m: name 'test_dl' is not defined"
          ]
        }
      ]
    },
    {
      "cell_type": "markdown",
      "source": [
        "Validate on Test Set "
      ],
      "metadata": {
        "id": "pwMXIw9m73jo"
      }
    },
    {
      "cell_type": "code",
      "source": [
        "# Validate\n",
        "with torch.no_grad():\n",
        "    batch_acc = []\n",
        "    model.eval()\n",
        "    for images, labels in test_dl:\n",
        "        images, labels = images.to(device), labels.to(device)\n",
        "        # flatten images to batch_size x 784\n",
        "        images = images.view(images.shape[0], -1)\n",
        "        # make predictions and get probabilities\n",
        "        proba = torch.exp(model(images))\n",
        "        # extract the class associted with highest probability\n",
        "        _, pred_labels = proba.topk(1, dim=1)\n",
        "        # compare actual labels and predicted labels\n",
        "        result = pred_labels == labels.view(pred_labels.shape)\n",
        "        acc = torch.mean(result.type(torch.FloatTensor))\n",
        "        batch_acc.append(acc.item())\n",
        "    else:\n",
        "        print(f'Test Accuracy: {torch.mean(torch.tensor(batch_acc))*100:.2f}%')"
      ],
      "metadata": {
        "colab": {
          "base_uri": "https://localhost:8080/"
        },
        "id": "_kNkxabb73KY",
        "outputId": "ce72062e-7031-42e0-9bac-973e61bbb216"
      },
      "execution_count": null,
      "outputs": [
        {
          "output_type": "stream",
          "name": "stdout",
          "text": [
            "Test Accuracy: 87.70%\n"
          ]
        }
      ]
    }
  ]
}